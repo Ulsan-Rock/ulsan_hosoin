{
  "nbformat": 4,
  "nbformat_minor": 0,
  "metadata": {
    "colab": {
      "provenance": [],
      "authorship_tag": "ABX9TyN+ZXLZf8rgy39/XHqYUAVY",
      "include_colab_link": true
    },
    "kernelspec": {
      "name": "python3",
      "display_name": "Python 3"
    },
    "language_info": {
      "name": "python"
    }
  },
  "cells": [
    {
      "cell_type": "markdown",
      "metadata": {
        "id": "view-in-github",
        "colab_type": "text"
      },
      "source": [
        "<a href=\"https://colab.research.google.com/github/Ulsan-Rock/ulsan_hosoin/blob/main/Untitled27.ipynb\" target=\"_parent\"><img src=\"https://colab.research.google.com/assets/colab-badge.svg\" alt=\"Open In Colab\"/></a>"
      ]
    },
    {
      "cell_type": "code",
      "execution_count": null,
      "metadata": {
        "id": "q9Y0fzvMVCLD"
      },
      "outputs": [],
      "source": [
        "#1. 하나의 정수를 넘겨받아 절대값을 구하여 return하는 함수 f1()을 정의하시오.\n",
        "\n",
        "#2. 두 정수를 넘겨받아 더 큰 수를 구하여  return하는 함수 f2()를 정의하시오.\n",
        "\n",
        "#3. 두 정수를 넘겨받아 큰 수와 작은 수를 구하여 차례대로 return하는 함수 f3()을 정의하시오.\n",
        "\n",
        "#4. 세 정수를 넘겨받아 가장 큰 수와 가장 작은 수를 구하여 return하는 함수 f4()를 정의하시오.\n",
        "\n",
        "#5. 하나의 리스트를 넘겨받아 원소의 갯수를 return하는 함수 f5()를 정의하시오.\n",
        "\n",
        "#6. 하나의 리스트를 넘겨받아 가장 큰 수를 구하여 return하는 함수 f6()를 정의하시오.\n",
        "\n",
        "#7. 하나의 리스트를 넘겨받아 가장 큰 수와 가장 작은 수의 차를 구하여 return하는 함수 f7()를 정의하시오.\n",
        "\n",
        "#8. 하나의 리스트를 넘겨받아 전체 원소의 평균을 구하여 return하는 함수 f8()를 정의하시오.\n",
        "\n",
        "#9. 하나의 리스트를 넘겨받아 오름 차순으로 정렬한 후, 원소의 갯수가 홀수개이면 중앙값을 return하고, 짝수개이면 중앙의 두 원소의 평균을 return하는 함수 f9()를 정의하시오.\n",
        "\n",
        "#10. 하나의 리스트를 넘겨받아 홀수번째 원소들만을 슬라이싱한 결과를 return하는 함수 f10()를 정의하시오."
      ]
    },
    {
      "cell_type": "code",
      "source": [
        "#1. 하나의 정수를 넘겨받아 절대값을 구하여 return하는 함수 f1()을 정의하시오."
      ],
      "metadata": {
        "id": "u8p7DEdnVKHa"
      },
      "execution_count": null,
      "outputs": []
    },
    {
      "cell_type": "code",
      "source": [
        "#2. 두 정수를 넘겨받아 더 큰 수를 구하여  return하는 함수 f2()를 정의하시오."
      ],
      "metadata": {
        "id": "0ojeyhYgVMpr"
      },
      "execution_count": null,
      "outputs": []
    },
    {
      "cell_type": "code",
      "source": [
        "#3. 두 정수를 넘겨받아 큰 수와 작은 수를 구하여 차례대로 return하는 함수 f3()을 정의하시오."
      ],
      "metadata": {
        "id": "wAbwCjKDVMyv"
      },
      "execution_count": null,
      "outputs": []
    },
    {
      "cell_type": "code",
      "source": [
        "#4. 세 정수를 넘겨받아 가장 큰 수와 가장 작은 수를 구하여 return하는 함수 f4()를 정의하시오.\n",
        "def f4(a,b,c):\n",
        "  if a>b and a>c:\n",
        "    x=a\n",
        "    if b>c:\n",
        "      y=c\n",
        "    if c>b:\n",
        "      y=b\n",
        "   return x,y\n",
        "\n",
        "  if b>a and b>c:\n",
        "    x=b\n",
        "    if a>c:\n",
        "      y=c\n",
        "    if c>a:\n",
        "      y=a\n",
        "   return x,y\n",
        "\n",
        "  if c>a and c>b:\n",
        "    x=c\n",
        "    if a>b:\n",
        "      y=b\n",
        "    if b>a:\n",
        "      y=a\n",
        "   return x,y\n",
        "\n",
        "x=0\n",
        "y=0\n",
        "r=f4(1,2,3)\n",
        "print(r)"
      ],
      "metadata": {
        "colab": {
          "base_uri": "https://localhost:8080/",
          "height": 134
        },
        "id": "Ai7qu-_sVNW9",
        "outputId": "c7b151c2-6f67-43ee-939d-1cbc828cbbe2"
      },
      "execution_count": 5,
      "outputs": [
        {
          "output_type": "error",
          "ename": "IndentationError",
          "evalue": "ignored",
          "traceback": [
            "\u001b[0;36m  File \u001b[0;32m\"<tokenize>\"\u001b[0;36m, line \u001b[0;32m9\u001b[0m\n\u001b[0;31m    return x,y\u001b[0m\n\u001b[0m    ^\u001b[0m\n\u001b[0;31mIndentationError\u001b[0m\u001b[0;31m:\u001b[0m unindent does not match any outer indentation level\n"
          ]
        }
      ]
    },
    {
      "cell_type": "code",
      "source": [
        "#5. 하나의 리스트를 넘겨받아 원소의 갯수를 return하는 함수 f5()를 정의하시오."
      ],
      "metadata": {
        "id": "67zpS-1nVNd9"
      },
      "execution_count": null,
      "outputs": []
    },
    {
      "cell_type": "code",
      "source": [
        "#6. 하나의 리스트를 넘겨받아 가장 큰 수를 구하여 return하는 함수 f6()를 정의하시오."
      ],
      "metadata": {
        "id": "DVJX_UO9VNjt"
      },
      "execution_count": null,
      "outputs": []
    },
    {
      "cell_type": "code",
      "source": [
        "#7. 하나의 리스트를 넘겨받아 가장 큰 수와 가장 작은 수의 차를 구하여 return하는 함수 f7()를 정의하시오."
      ],
      "metadata": {
        "id": "pMJgrwlGVNps"
      },
      "execution_count": null,
      "outputs": []
    },
    {
      "cell_type": "code",
      "source": [
        "#8. 하나의 리스트를 넘겨받아 전체 원소의 평균을 구하여 return하는 함수 f8()를 정의하시오."
      ],
      "metadata": {
        "id": "Rz0u5bN3VNvZ"
      },
      "execution_count": null,
      "outputs": []
    },
    {
      "cell_type": "code",
      "source": [
        "#9. 하나의 리스트를 넘겨받아 오름 차순으로 정렬한 후, 원소의 갯수가 홀수개이면 중앙값을 return하고, 짝수개이면 중앙의 두 원소의 평균을 return하는 함수 f9()를 정의하시오."
      ],
      "metadata": {
        "id": "b7DdAhGTVN17"
      },
      "execution_count": null,
      "outputs": []
    },
    {
      "cell_type": "code",
      "source": [
        "#10. 하나의 리스트를 넘겨받아 홀수번째 원소들만을 슬라이싱한 결과를 return하는 함수 f10()를 정의하시오."
      ],
      "metadata": {
        "id": "UFcgOEGKVN7I"
      },
      "execution_count": null,
      "outputs": []
    }
  ]
}