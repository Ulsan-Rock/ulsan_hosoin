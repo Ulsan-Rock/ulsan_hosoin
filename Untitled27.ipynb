{
  "nbformat": 4,
  "nbformat_minor": 0,
  "metadata": {
    "colab": {
      "provenance": [],
      "authorship_tag": "ABX9TyNV7gogPF7tYXAJxRQiv0Je",
      "include_colab_link": true
    },
    "kernelspec": {
      "name": "python3",
      "display_name": "Python 3"
    },
    "language_info": {
      "name": "python"
    }
  },
  "cells": [
    {
      "cell_type": "markdown",
      "metadata": {
        "id": "view-in-github",
        "colab_type": "text"
      },
      "source": [
        "<a href=\"https://colab.research.google.com/github/Ulsan-Rock/ulsan_hosoin/blob/main/Untitled27.ipynb\" target=\"_parent\"><img src=\"https://colab.research.google.com/assets/colab-badge.svg\" alt=\"Open In Colab\"/></a>"
      ]
    },
    {
      "cell_type": "code",
      "execution_count": null,
      "metadata": {
        "id": "q9Y0fzvMVCLD"
      },
      "outputs": [],
      "source": [
        "#1. 하나의 정수를 넘겨받아 절대값을 구하여 return하는 함수 f1()을 정의하시오.\n",
        "\n",
        "#2. 두 정수를 넘겨받아 더 큰 수를 구하여  return하는 함수 f2()를 정의하시오.\n",
        "\n",
        "#3. 두 정수를 넘겨받아 큰 수와 작은 수를 구하여 차례대로 return하는 함수 f3()을 정의하시오.\n",
        "\n",
        "#4. 세 정수를 넘겨받아 가장 큰 수와 가장 작은 수를 구하여 return하는 함수 f4()를 정의하시오.\n",
        "\n",
        "#5. 하나의 리스트를 넘겨받아 원소의 갯수를 return하는 함수 f5()를 정의하시오.\n",
        "\n",
        "#6. 하나의 리스트를 넘겨받아 가장 큰 수를 구하여 return하는 함수 f6()를 정의하시오.\n",
        "\n",
        "#7. 하나의 리스트를 넘겨받아 가장 큰 수와 가장 작은 수의 차를 구하여 return하는 함수 f7()를 정의하시오.\n",
        "\n",
        "#8. 하나의 리스트를 넘겨받아 전체 원소의 평균을 구하여 return하는 함수 f8()를 정의하시오.\n",
        "\n",
        "#9. 하나의 리스트를 넘겨받아 오름 차순으로 정렬한 후, 원소의 갯수가 홀수개이면 중앙값을 return하고, 짝수개이면 중앙의 두 원소의 평균을 return하는 함수 f9()를 정의하시오.\n",
        "\n",
        "#10. 하나의 리스트를 넘겨받아 홀수번째 원소들만을 슬라이싱한 결과를 return하는 함수 f10()를 정의하시오."
      ]
    },
    {
      "cell_type": "code",
      "source": [
        "#1. 하나의 정수를 넘겨받아 절대값을 구하여 return하는 함수 f1()을 정의하시오."
      ],
      "metadata": {
        "id": "u8p7DEdnVKHa"
      },
      "execution_count": null,
      "outputs": []
    },
    {
      "cell_type": "code",
      "source": [
        "#2. 두 정수를 넘겨받아 더 큰 수를 구하여  return하는 함수 f2()를 정의하시오."
      ],
      "metadata": {
        "id": "0ojeyhYgVMpr"
      },
      "execution_count": null,
      "outputs": []
    },
    {
      "cell_type": "code",
      "source": [
        "#3. 두 정수를 넘겨받아 큰 수와 작은 수를 구하여 차례대로 return하는 함수 f3()을 정의하시오."
      ],
      "metadata": {
        "id": "wAbwCjKDVMyv"
      },
      "execution_count": null,
      "outputs": []
    },
    {
      "cell_type": "code",
      "source": [
        "#4. 세 정수를 넘겨받아 가장 큰 수와 가장 작은 수를 구하여 return하는 함수 f4()를 정의하시오.\n",
        "def f4(a,b,c):\n",
        "  if a>b and a>c:\n",
        "    x=a\n",
        "    if b>c:\n",
        "      y=c\n",
        "    if c>b:\n",
        "      y=b\n",
        "    return x,y\n",
        "\n",
        "  if b>a and b>c:\n",
        "    x=b\n",
        "    if a>c:\n",
        "      y=c\n",
        "    if c>a:\n",
        "      y=a\n",
        "    return x,y\n",
        "\n",
        "  if c>a and c>b:\n",
        "    x=c\n",
        "    if a>b:\n",
        "      y=b\n",
        "    if b>a:\n",
        "      y=a\n",
        "    return x,y\n",
        "\n",
        "r=f4(10,9,3)\n",
        "print(r)"
      ],
      "metadata": {
        "colab": {
          "base_uri": "https://localhost:8080/"
        },
        "id": "Ai7qu-_sVNW9",
        "outputId": "0ba5dbbe-4206-45e1-fa5b-b65430561632"
      },
      "execution_count": 8,
      "outputs": [
        {
          "output_type": "stream",
          "name": "stdout",
          "text": [
            "(10, 3)\n"
          ]
        }
      ]
    },
    {
      "cell_type": "code",
      "source": [
        "#5. 하나의 리스트를 넘겨받아 원소의 갯수를 return하는 함수 f5()를 정의하시오.\n",
        "def f5(a):\n",
        "  return len(a)\n",
        "x=[1,2,3,4,5,3,2]\n",
        "r=f5(x)\n",
        "print(r)"
      ],
      "metadata": {
        "colab": {
          "base_uri": "https://localhost:8080/"
        },
        "id": "67zpS-1nVNd9",
        "outputId": "ce5ebd16-6a3c-433c-988e-085dd84374a9"
      },
      "execution_count": 9,
      "outputs": [
        {
          "output_type": "stream",
          "name": "stdout",
          "text": [
            "7\n"
          ]
        }
      ]
    },
    {
      "cell_type": "code",
      "source": [
        "#6. 하나의 리스트를 넘겨받아 가장 큰 수를 구하여 return하는 함수 f6()를 정의하시오.\n",
        "def f6(a):\n",
        "  r=0\n",
        "  for i in range(len(a)):\n",
        "    b=a[1]\n",
        "    if a[i]>r:\n",
        "      r=a\n",
        "  return r\n",
        "x=[3,32,4,5,6]\n",
        "y=f6(x)\n",
        "print(y)"
      ],
      "metadata": {
        "colab": {
          "base_uri": "https://localhost:8080/",
          "height": 348
        },
        "id": "DVJX_UO9VNjt",
        "outputId": "2cec02b6-2491-4a19-91b5-2c89d54f3200"
      },
      "execution_count": 13,
      "outputs": [
        {
          "output_type": "error",
          "ename": "TypeError",
          "evalue": "ignored",
          "traceback": [
            "\u001b[0;31m---------------------------------------------------------------------------\u001b[0m",
            "\u001b[0;31mTypeError\u001b[0m                                 Traceback (most recent call last)",
            "\u001b[0;32m<ipython-input-13-190044fa1e4b>\u001b[0m in \u001b[0;36m<module>\u001b[0;34m\u001b[0m\n\u001b[1;32m      8\u001b[0m   \u001b[0;32mreturn\u001b[0m \u001b[0mr\u001b[0m\u001b[0;34m\u001b[0m\u001b[0;34m\u001b[0m\u001b[0m\n\u001b[1;32m      9\u001b[0m \u001b[0mx\u001b[0m\u001b[0;34m=\u001b[0m\u001b[0;34m[\u001b[0m\u001b[0;36m3\u001b[0m\u001b[0;34m,\u001b[0m\u001b[0;36m32\u001b[0m\u001b[0;34m,\u001b[0m\u001b[0;36m4\u001b[0m\u001b[0;34m,\u001b[0m\u001b[0;36m5\u001b[0m\u001b[0;34m,\u001b[0m\u001b[0;36m6\u001b[0m\u001b[0;34m]\u001b[0m\u001b[0;34m\u001b[0m\u001b[0;34m\u001b[0m\u001b[0m\n\u001b[0;32m---> 10\u001b[0;31m \u001b[0my\u001b[0m\u001b[0;34m=\u001b[0m\u001b[0mf6\u001b[0m\u001b[0;34m(\u001b[0m\u001b[0mx\u001b[0m\u001b[0;34m)\u001b[0m\u001b[0;34m\u001b[0m\u001b[0;34m\u001b[0m\u001b[0m\n\u001b[0m\u001b[1;32m     11\u001b[0m \u001b[0mprint\u001b[0m\u001b[0;34m(\u001b[0m\u001b[0my\u001b[0m\u001b[0;34m)\u001b[0m\u001b[0;34m\u001b[0m\u001b[0;34m\u001b[0m\u001b[0m\n",
            "\u001b[0;32m<ipython-input-13-190044fa1e4b>\u001b[0m in \u001b[0;36mf6\u001b[0;34m(a)\u001b[0m\n\u001b[1;32m      4\u001b[0m   \u001b[0;32mfor\u001b[0m \u001b[0mi\u001b[0m \u001b[0;32min\u001b[0m \u001b[0mrange\u001b[0m\u001b[0;34m(\u001b[0m\u001b[0mlen\u001b[0m\u001b[0;34m(\u001b[0m\u001b[0ma\u001b[0m\u001b[0;34m)\u001b[0m\u001b[0;34m)\u001b[0m\u001b[0;34m:\u001b[0m\u001b[0;34m\u001b[0m\u001b[0;34m\u001b[0m\u001b[0m\n\u001b[1;32m      5\u001b[0m     \u001b[0mb\u001b[0m\u001b[0;34m=\u001b[0m\u001b[0ma\u001b[0m\u001b[0;34m[\u001b[0m\u001b[0;36m1\u001b[0m\u001b[0;34m]\u001b[0m\u001b[0;34m\u001b[0m\u001b[0;34m\u001b[0m\u001b[0m\n\u001b[0;32m----> 6\u001b[0;31m     \u001b[0;32mif\u001b[0m \u001b[0ma\u001b[0m\u001b[0;34m[\u001b[0m\u001b[0mi\u001b[0m\u001b[0;34m]\u001b[0m\u001b[0;34m>\u001b[0m\u001b[0mr\u001b[0m\u001b[0;34m:\u001b[0m\u001b[0;34m\u001b[0m\u001b[0;34m\u001b[0m\u001b[0m\n\u001b[0m\u001b[1;32m      7\u001b[0m       \u001b[0mr\u001b[0m\u001b[0;34m=\u001b[0m\u001b[0ma\u001b[0m\u001b[0;34m\u001b[0m\u001b[0;34m\u001b[0m\u001b[0m\n\u001b[1;32m      8\u001b[0m   \u001b[0;32mreturn\u001b[0m \u001b[0mr\u001b[0m\u001b[0;34m\u001b[0m\u001b[0;34m\u001b[0m\u001b[0m\n",
            "\u001b[0;31mTypeError\u001b[0m: '>' not supported between instances of 'int' and 'list'"
          ]
        }
      ]
    },
    {
      "cell_type": "code",
      "source": [
        "#6. 하나의 리스트를 넘겨받아 가장 큰 수를 구하여 return하는 함수 f6()를 정의하시오.\n",
        "def f6(a):\n",
        "  a.sort(reverse=True)\n",
        "  return a[0]\n",
        "x=[3,32,4,5,6]\n",
        "print(f6(x))"
      ],
      "metadata": {
        "colab": {
          "base_uri": "https://localhost:8080/"
        },
        "id": "XiDVCfE6feMF",
        "outputId": "fffd3385-04a1-4a35-e71d-4550fa672437"
      },
      "execution_count": 43,
      "outputs": [
        {
          "output_type": "stream",
          "name": "stdout",
          "text": [
            "32\n"
          ]
        }
      ]
    },
    {
      "cell_type": "code",
      "source": [
        "#6. 하나의 리스트를 넘겨받아 가장 큰 수를 구하여 return하는 함수 f6()를 정의하시오.\n",
        "def f6(a):\n",
        "  a.sort()\n",
        "  return a[len(a)-1]\n",
        "x=[3,32,4,5,6]\n",
        "print(f6(x))"
      ],
      "metadata": {
        "colab": {
          "base_uri": "https://localhost:8080/"
        },
        "id": "UJ83ozVnhuWU",
        "outputId": "f9543eb5-872e-4f44-f97c-be29cfa8abb2"
      },
      "execution_count": 45,
      "outputs": [
        {
          "output_type": "stream",
          "name": "stdout",
          "text": [
            "32\n"
          ]
        }
      ]
    },
    {
      "cell_type": "code",
      "source": [
        "a=[1,2,3,4]\n",
        "a[0]"
      ],
      "metadata": {
        "colab": {
          "base_uri": "https://localhost:8080/"
        },
        "id": "JOBo3nbrgdLd",
        "outputId": "402403d2-fca3-41fa-ae9e-d360c8444b01"
      },
      "execution_count": 28,
      "outputs": [
        {
          "output_type": "execute_result",
          "data": {
            "text/plain": [
              "1"
            ]
          },
          "metadata": {},
          "execution_count": 28
        }
      ]
    },
    {
      "cell_type": "code",
      "source": [
        "#7. 하나의 리스트를 넘겨받아 가장 큰 수와 가장 작은 수의 차를 구하여 return하는 함수 f7()를 정의하시오."
      ],
      "metadata": {
        "id": "pMJgrwlGVNps"
      },
      "execution_count": null,
      "outputs": []
    },
    {
      "cell_type": "code",
      "source": [
        "#8. 하나의 리스트를 넘겨받아 전체 원소의 평균을 구하여 return하는 함수 f8()를 정의하시오."
      ],
      "metadata": {
        "id": "Rz0u5bN3VNvZ"
      },
      "execution_count": null,
      "outputs": []
    },
    {
      "cell_type": "code",
      "source": [
        "#9. 하나의 리스트를 넘겨받아 오름 차순으로 정렬한 후, 원소의 갯수가 홀수개이면 중앙값을 return하고, 짝수개이면 중앙의 두 원소의 평균을 return하는 함수 f9()를 정의하시오.\n",
        "def f9(a):\n",
        "  a.sort()\n",
        "  if len(a)%2==0:\n",
        "    k= (a[len(a)//2-1]+a[len(a)//2])\n",
        "    return k/2\n",
        "  else:\n",
        "    k= a[len(a)//2]\n",
        "    return k\n",
        "x=[1,3,4,5,2,6]\n",
        "r=f9(x)\n",
        "print(r)"
      ],
      "metadata": {
        "colab": {
          "base_uri": "https://localhost:8080/"
        },
        "id": "b7DdAhGTVN17",
        "outputId": "4311fb15-b634-4fef-eed8-893d42da34c2"
      },
      "execution_count": 61,
      "outputs": [
        {
          "output_type": "stream",
          "name": "stdout",
          "text": [
            "3.5\n"
          ]
        }
      ]
    },
    {
      "cell_type": "code",
      "source": [
        "#9. 하나의 리스트를 넘겨받아 오름 차순으로 정렬한 후, 원소의 갯수가 홀수개이면 중앙값을 return하고, 짝수개이면 중앙의 두 원소의 평균을 return하는 함수 f9()를 정의하시오.\n",
        "def f9(a):\n",
        "  a.sort()\n",
        "  if len(a)%2==0:\n",
        "    x=len(a)//2\n",
        "    m=(a[x-1]+a[x])/2\n",
        "  else :\n",
        "    x=len(a)//2+1\n",
        "    m=a[x-1]\n",
        "  return m\n",
        "a=[3,10,4,1,7,6]\n",
        "r=f9(a)\n",
        "print(r)"
      ],
      "metadata": {
        "id": "lmFOG962nmHd",
        "outputId": "3dccc3d0-be09-45ed-d54b-4fe5bf3b9299",
        "colab": {
          "base_uri": "https://localhost:8080/"
        }
      },
      "execution_count": 62,
      "outputs": [
        {
          "output_type": "stream",
          "name": "stdout",
          "text": [
            "5.0\n"
          ]
        }
      ]
    },
    {
      "cell_type": "code",
      "source": [
        "#10. 하나의 리스트를 넘겨받아 홀수번째 원소들만을 슬라이싱한 결과를 return하는 함수 f10()를 정의하시오.\n",
        "def f10(a):\n",
        "  k=a[ : :2]\n",
        "  return k\n",
        "a=[1,5,2,7,3]\n",
        "r=f10(a)\n",
        "print(r)"
      ],
      "metadata": {
        "id": "JyNPoUukpQJd"
      },
      "execution_count": null,
      "outputs": []
    },
    {
      "cell_type": "code",
      "source": [
        "#10. 하나의 리스트를 넘겨받아 홀수번째 원소들만을 슬라이싱한 결과를 return하는 함수 f10()를 정의하시오.\n",
        "def f10(a):\n",
        "  r=[]\n",
        "  for i in range(0,len(a),2):\n",
        "    r.append(a[i])\n",
        "  return r\n",
        "x=[1,2,3,4,5]\n",
        "print(f10(x))"
      ],
      "metadata": {
        "colab": {
          "base_uri": "https://localhost:8080/"
        },
        "id": "UFcgOEGKVN7I",
        "outputId": "ab8aef4a-8566-405a-d2e9-1ce412590738"
      },
      "execution_count": 67,
      "outputs": [
        {
          "output_type": "stream",
          "name": "stdout",
          "text": [
            "[1, 3, 5]\n"
          ]
        }
      ]
    }
  ]
}